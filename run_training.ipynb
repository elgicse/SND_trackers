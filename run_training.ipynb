{
 "cells": [
  {
   "cell_type": "code",
   "execution_count": 3,
   "metadata": {},
   "outputs": [
    {
     "name": "stdout",
     "output_type": "stream",
     "text": [
      "env: CUDA_VISIBLE_DEVICES=3\n"
     ]
    }
   ],
   "source": [
    "%env CUDA_VISIBLE_DEVICES=3"
   ]
  },
  {
   "cell_type": "code",
   "execution_count": 4,
   "metadata": {},
   "outputs": [
    {
     "name": "stdout",
     "output_type": "stream",
     "text": [
      "Welcome to JupyROOT 6.18/00\n"
     ]
    }
   ],
   "source": [
    "from utils import DataPreprocess, Parameters"
   ]
  },
  {
   "cell_type": "code",
   "execution_count": 5,
   "metadata": {},
   "outputs": [],
   "source": [
    "import torch\n",
    "from net import SNDNet, MyDataset, digitize_signal\n",
    "device = torch.device(\"cuda\", 0)"
   ]
  },
  {
   "cell_type": "code",
   "execution_count": 6,
   "metadata": {},
   "outputs": [],
   "source": [
    "from matplotlib import pylab as plt\n",
    "import numpy as np\n",
    "import pandas as pd\n",
    "from sklearn.model_selection import train_test_split\n",
    "from sklearn.metrics import mean_squared_error\n",
    "import time\n",
    "from tqdm import tqdm\n",
    "from IPython import display\n",
    "import os\n",
    "%matplotlib inline"
   ]
  },
  {
   "cell_type": "code",
   "execution_count": 7,
   "metadata": {},
   "outputs": [],
   "source": [
    "params = Parameters(\"9X0\")\n",
    "data_preprocessor = DataPreprocess(params)"
   ]
  },
  {
   "cell_type": "code",
   "execution_count": 6,
   "metadata": {},
   "outputs": [
    {
     "name": "stderr",
     "output_type": "stream",
     "text": [
      "Warning in <TClass::Init>: no dictionary for class ShipMCTrack is available\n",
      "Warning in <TClass::Init>: no dictionary for class ShipRpcPoint is available\n",
      "Warning in <TClass::Init>: no dictionary for class FairMCPoint is available\n",
      "Warning in <TClass::Init>: no dictionary for class FairMultiLinkedData_Interface is available\n",
      "Warning in <TClass::Init>: no dictionary for class FairMultiLinkedData is available\n",
      "Warning in <TClass::Init>: no dictionary for class FairLink is available\n",
      "Warning in <TClass::Init>: no dictionary for class TargetPoint is available\n",
      "Warning in <TClass::Init>: no dictionary for class TTPoint is available\n",
      "Warning in <TClass::Init>: no dictionary for class HptPoint is available\n",
      "Warning in <TClass::Init>: no dictionary for class FairMCEventHeader is available\n",
      "Warning in <TClass::Init>: no dictionary for class FairFileHeader is available\n"
     ]
    }
   ],
   "source": [
    "filename = \"/home/shirobokov/data/SHIP_data/TT_data/9X0/9X0_500k.root\"\n",
    "showers_root = data_preprocessor.open_shower_file(filename, stop=500000)"
   ]
  },
  {
   "cell_type": "code",
   "execution_count": 8,
   "metadata": {},
   "outputs": [],
   "source": [
    "processed_file_path = \"/home/shirobokov/data/SHIP_data/TT_data\""
   ]
  },
  {
   "cell_type": "code",
   "execution_count": 8,
   "metadata": {},
   "outputs": [
    {
     "name": "stdout",
     "output_type": "stream",
     "text": [
      "0 0 0\n",
      "(500000, 8) (500000, 10)\n",
      "(495316, 8)\n"
     ]
    }
   ],
   "source": [
    "data_preprocessor.clean_data_and_save(showers_root, processed_file_path)"
   ]
  },
  {
   "cell_type": "code",
   "execution_count": 9,
   "metadata": {},
   "outputs": [],
   "source": [
    "TT_df = pd.read_pickle(os.path.join(processed_file_path, \"tt_cleared.pkl\"))\n",
    "y_full = pd.read_pickle(os.path.join(processed_file_path, \"y_cleared.pkl\"))"
   ]
  },
  {
   "cell_type": "code",
   "execution_count": 10,
   "metadata": {},
   "outputs": [
    {
     "name": "stdout",
     "output_type": "stream",
     "text": [
      "(6, 150, 185)\n"
     ]
    },
    {
     "data": {
      "image/png": "[encoded data removed]",
      "text/plain": [
       "<Figure size 1296x432 with 6 Axes>"
      ]
     },
     "metadata": {
      "needs_background": "light"
     },
     "output_type": "display_data"
    }
   ],
   "source": [
    "index=0\n",
    "response = digitize_signal(TT_df.iloc[index], params=params, filters=6)\n",
    "print(response.shape)\n",
    "plt.figure(figsize=(18,6))\n",
    "for i in range(6):\n",
    "    plt.subplot(1,6,i+1)\n",
    "    plt.imshow(response[i].astype(\"uint8\") * 255, cmap='gray')"
   ]
  },
  {
   "cell_type": "markdown",
   "metadata": {},
   "source": [
    "# Train/test split"
   ]
  },
  {
   "cell_type": "code",
   "execution_count": 11,
   "metadata": {},
   "outputs": [
    {
     "name": "stderr",
     "output_type": "stream",
     "text": [
      "/mnt/shirobokov/conda/envs/pytorch/lib/python3.7/site-packages/ipykernel_launcher.py:3: SettingWithCopyWarning: \n",
      "A value is trying to be set on a copy of a slice from a DataFrame.\n",
      "Try using .loc[row_indexer,col_indexer] = value instead\n",
      "\n",
      "See the caveats in the documentation: http://pandas.pydata.org/pandas-docs/stable/indexing.html#indexing-view-versus-copy\n",
      "  This is separate from the ipykernel package so we can avoid doing imports until\n"
     ]
    }
   ],
   "source": [
    "y = y_full[[\"E\", \"Z\"]]\n",
    "NORM = 7. / 100\n",
    "y[\"E\"] *= NORM"
   ]
  },
  {
   "cell_type": "code",
   "execution_count": 12,
   "metadata": {},
   "outputs": [],
   "source": [
    "indeces = np.arange(len(TT_df))\n",
    "train_indeces, test_indeces, _, _ = train_test_split(indeces, indeces, train_size=0.9, random_state=1543)\n",
    "\n",
    "\n",
    "batch_size = 512\n",
    "train_dataset = MyDataset(TT_df, y, params, train_indeces, n_filters=6)\n",
    "train_batch_gen = torch.utils.data.DataLoader(train_dataset, \n",
    "                                              batch_size=batch_size,\n",
    "                                              shuffle=True,\n",
    "                                              num_workers=10)\n",
    "\n",
    "test_dataset = MyDataset(TT_df, y, params, test_indeces, n_filters=6)\n",
    "test_batch_gen = torch.utils.data.DataLoader(test_dataset, \n",
    "                                              batch_size=batch_size,\n",
    "                                              shuffle=False,\n",
    "                                              num_workers=5)"
   ]
  },
  {
   "cell_type": "code",
   "execution_count": 13,
   "metadata": {},
   "outputs": [
    {
     "data": {
      "text/plain": [
       "(49532,)"
      ]
     },
     "execution_count": 13,
     "metadata": {},
     "output_type": "execute_result"
    }
   ],
   "source": [
    "test_indeces.shape"
   ]
  },
  {
   "cell_type": "markdown",
   "metadata": {},
   "source": [
    "# Training"
   ]
  },
  {
   "cell_type": "code",
   "execution_count": 15,
   "metadata": {},
   "outputs": [],
   "source": [
    "class Logger(object):\n",
    "    def __init__(self):\n",
    "        pass\n",
    "\n",
    "    def plot_losses(self, epoch, num_epochs, start_time):\n",
    "        f, (ax1, ax2) = plt.subplots(1, 2, figsize=(16,6))\n",
    "        ax1.set_title(\"Loss\")\n",
    "        ax1.set_xlabel(\"#Epoch\")\n",
    "        ax1.set_ylabel(\"loss\")\n",
    "        ax1.plot(train_loss, 'b', label='Train loss')\n",
    "        ax1.legend(loc='best')\n",
    "        ax1.grid()\n",
    "\n",
    "        ax2.set_title(\"MSE error\")\n",
    "        ax2.set_xlabel(\"#Epoch\")\n",
    "        ax2.set_ylabel(\"E error\")\n",
    "        ax2.plot(val_accuracy_1, 'b', label='Test energy')\n",
    "\n",
    "        ax3 = ax2.twinx()\n",
    "        ax3.set_ylabel(\"Dist error\")\n",
    "        ax3.plot(val_accuracy_2, 'r', label='Test dist')\n",
    "        ax2.legend(loc='upper right')\n",
    "        ax3.legend(loc='lower left')\n",
    "        ax2.grid()\n",
    "        ax3.grid()\n",
    "\n",
    "        plt.show()\n",
    "\n",
    "        # Then we print the results for this epoch:\n",
    "        print(\"Epoch {} of {} took {:.3f}s\".format(\n",
    "            epoch + 1, num_epochs, time.time() - start_time))\n",
    "        print(\"  training loss (in-iteration): \\t{:.6f}\".format(\n",
    "            train_loss[-1]))\n",
    "        print(\"  validation Energy:\\t\\t{:.4f} %\".format(val_accuracy_1[-1]))\n",
    "        print(\"  validation distance:\\t\\t{:.4f} %\".format(val_accuracy_2[-1]))        "
   ]
  },
  {
   "cell_type": "code",
   "execution_count": 16,
   "metadata": {},
   "outputs": [],
   "source": [
    "net = SNDNet(n_input_filters=6).to(device)\n",
    "logger = Logger()\n",
    "\n",
    "lr = 1e-3\n",
    "opt = torch.optim.Adam(net.model.parameters(), lr=lr, weight_decay=0.01)\n",
    "num_epochs = 60\n",
    "\n",
    "train_loss = []\n",
    "val_accuracy_1 = []\n",
    "val_accuracy_2 = []"
   ]
  },
  {
   "cell_type": "code",
   "execution_count": 16,
   "metadata": {},
   "outputs": [],
   "source": [
    "def run_training(lr, num_epochs, opt):\n",
    "    try:\n",
    "        for epoch in range(num_epochs):\n",
    "            # In each epoch, we do a full pass over the training data:\n",
    "            start_time = time.time()\n",
    "            net.model.train(True)\n",
    "\n",
    "            epoch_loss = 0\n",
    "            for X_batch, y_batch in tqdm(train_batch_gen, total = int(len(train_indeces) / batch_size)):\n",
    "                # train on batch\n",
    "                loss = net.compute_loss(X_batch, y_batch)\n",
    "                loss.backward()\n",
    "                opt.step()\n",
    "                opt.zero_grad()\n",
    "                epoch_loss += loss.item()\n",
    "\n",
    "            train_loss.append(epoch_loss / (len(train_indeces) // batch_size + 1))\n",
    "\n",
    "\n",
    "            y_score = []\n",
    "            with torch.no_grad():\n",
    "                for (X_batch, y_batch) in tqdm(test_batch_gen, total = int(len(test_indeces) / batch_size)):\n",
    "                    logits = net.predict(X_batch)\n",
    "                    y_pred = logits.cpu().detach().numpy()\n",
    "                    y_score.extend(y_pred)\n",
    "\n",
    "            y_score = mean_squared_error(y.iloc[test_indeces], np.asarray(y_score), multioutput='raw_values')\n",
    "            val_accuracy_1.append(y_score[0])\n",
    "            val_accuracy_2.append(y_score[1])    \n",
    "\n",
    "            # Visualize\n",
    "            display.clear_output(wait=True)\n",
    "            logger.plot_losses(epoch, num_epochs, start_time)\n",
    "\n",
    "            if (epoch + 1) % 10 == 0:\n",
    "                with open(str(epoch) + \"_9X0_coordconv.pt\", 'wb') as f:\n",
    "                    torch.save(net, f)       \n",
    "                lr = lr / 2\n",
    "                opt = torch.optim.Adam(net.model.parameters(), lr=lr)\n",
    "    except KeyboardInterrupt:\n",
    "        pass"
   ]
  },
  {
   "cell_type": "code",
   "execution_count": null,
   "metadata": {},
   "outputs": [
    {
     "data": {
      "image/png": "[encoded data removed]",
      "text/plain": [
       "<Figure size 1152x432 with 3 Axes>"
      ]
     },
     "metadata": {
      "needs_background": "light"
     },
     "output_type": "display_data"
    },
    {
     "name": "stderr",
     "output_type": "stream",
     "text": [
      "\r",
      "  0%|          | 0/870 [00:00<?, ?it/s]"
     ]
    },
    {
     "name": "stdout",
     "output_type": "stream",
     "text": [
      "Epoch 44 of 60 took 1530.320s\n",
      "  training loss (in-iteration): \t0.144115\n",
      "  validation Energy:\t\t0.1761 %\n",
      "  validation distance:\t\t0.4619 %\n"
     ]
    },
    {
     "name": "stderr",
     "output_type": "stream",
     "text": [
      " 63%|██████▎   | 544/870 [15:05<08:54,  1.64s/it]IOPub message rate exceeded.\n",
      "The notebook server will temporarily stop sending output\n",
      "to the client in order to avoid crashing it.\n",
      "To change this limit, set the config variable\n",
      "`--NotebookApp.iopub_msg_rate_limit`.\n",
      "\n",
      "Current values:\n",
      "NotebookApp.iopub_msg_rate_limit=1000.0 (msgs/sec)\n",
      "NotebookApp.rate_limit_window=3.0 (secs)\n",
      "\n",
      " 79%|███████▉  | 687/870 [19:01<04:58,  1.63s/it]"
     ]
    }
   ],
   "source": [
    "run_training(lr, num_epochs, opt)"
   ]
  },
  {
   "cell_type": "code",
   "execution_count": 18,
   "metadata": {},
   "outputs": [],
   "source": [
    "net = torch.load(\"59_9X0_coordconv.pt\")"
   ]
  },
  {
   "cell_type": "code",
   "execution_count": 23,
   "metadata": {},
   "outputs": [
    {
     "name": "stderr",
     "output_type": "stream",
     "text": [
      "97it [01:46,  1.02it/s]                        \n"
     ]
    }
   ],
   "source": [
    "preds = []\n",
    "with torch.no_grad():\n",
    "    for (X_batch, y_batch) in tqdm(test_batch_gen, total = int(len(test_indeces) / batch_size)):\n",
    "        preds.append(net.predict(X_batch))"
   ]
  },
  {
   "cell_type": "code",
   "execution_count": 37,
   "metadata": {},
   "outputs": [],
   "source": [
    "ans = np.concatenate([p.detach().cpu().numpy() for p in preds])"
   ]
  },
  {
   "cell_type": "code",
   "execution_count": 52,
   "metadata": {},
   "outputs": [
    {
     "data": {
      "image/png": "[encoded data removed]",
      "text/plain": [
       "<Figure size 432x288 with 1 Axes>"
      ]
     },
     "metadata": {
      "needs_background": "light"
     },
     "output_type": "display_data"
    }
   ],
   "source": [
    "plt.hist(ans[:, 0] / NORM, bins=50, label='Pred');\n",
    "plt.hist(y[\"E\"][test_indeces] / NORM, bins=50, alpha=0.5, label='True');"
   ]
  },
  {
   "cell_type": "code",
   "execution_count": 54,
   "metadata": {},
   "outputs": [
    {
     "data": {
      "image/png": "[encoded data removed]",
      "text/plain": [
       "<Figure size 432x288 with 1 Axes>"
      ]
     },
     "metadata": {
      "needs_background": "light"
     },
     "output_type": "display_data"
    }
   ],
   "source": [
    "plt.hist(ans[:, 1], bins=50, label='Pred');\n",
    "plt.hist(y[\"Z\"][test_indeces], bins=50, alpha=0.5, label='True');"
   ]
  },
  {
   "cell_type": "code",
   "execution_count": null,
   "metadata": {},
   "outputs": [],
   "source": []
  }
 ],
 "metadata": {
  "kernelspec": {
   "display_name": "Python 3",
   "language": "python",
   "name": "python3"
  },
  "language_info": {
   "codemirror_mode": {
    "name": "ipython",
    "version": 3
   },
   "file_extension": ".py",
   "mimetype": "text/x-python",
   "name": "python",
   "nbconvert_exporter": "python",
   "pygments_lexer": "ipython3",
   "version": "3.7.3"
  },
  "toc": {
   "base_numbering": 1,
   "nav_menu": {},
   "number_sections": true,
   "sideBar": true,
   "skip_h1_title": false,
   "title_cell": "Table of Contents",
   "title_sidebar": "Contents",
   "toc_cell": false,
   "toc_position": {},
   "toc_section_display": true,
   "toc_window_display": false
  }
 },
 "nbformat": 4,
 "nbformat_minor": 2
}
